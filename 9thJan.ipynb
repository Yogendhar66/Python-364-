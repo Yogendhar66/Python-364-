{
 "cells": [
  {
   "cell_type": "raw",
   "id": "10486c72",
   "metadata": {},
   "source": [
    "if condition1:\n",
    "    task1 block of code\n",
    "elif condition2:\n",
    "    task2 block of coode\n",
    "elif condition3:\n",
    "    task3 block of code\n",
    "else: task4 block of code\n",
    "\n"
   ]
  },
  {
   "cell_type": "code",
   "execution_count": 1,
   "id": "3813724b",
   "metadata": {},
   "outputs": [
    {
     "name": "stdout",
     "output_type": "stream",
     "text": [
      "odd\n"
     ]
    }
   ],
   "source": [
    "x=9\n",
    "if x%2==0:\n",
    "    print(\"Even\")\n",
    "else:\n",
    "    print(\"odd\")\n",
    "    "
   ]
  },
  {
   "cell_type": "code",
   "execution_count": 3,
   "id": "47ab1232",
   "metadata": {},
   "outputs": [
    {
     "data": {
      "text/plain": [
       "False"
      ]
     },
     "execution_count": 3,
     "metadata": {},
     "output_type": "execute_result"
    }
   ],
   "source": [
    "x%2==0\n"
   ]
  },
  {
   "cell_type": "code",
   "execution_count": 4,
   "id": "e513720d",
   "metadata": {},
   "outputs": [
    {
     "name": "stdout",
     "output_type": "stream",
     "text": [
      "Even\n"
     ]
    }
   ],
   "source": [
    "x=7\n",
    "if x+6:\n",
    "    print(\"Even\")\n",
    "else:\n",
    "    print(\"odd\")"
   ]
  },
  {
   "cell_type": "code",
   "execution_count": 5,
   "id": "65aec240",
   "metadata": {},
   "outputs": [
    {
     "data": {
      "text/plain": [
       "True"
      ]
     },
     "execution_count": 5,
     "metadata": {},
     "output_type": "execute_result"
    }
   ],
   "source": [
    "bool(x+6)"
   ]
  },
  {
   "cell_type": "code",
   "execution_count": 9,
   "id": "427aa8cc",
   "metadata": {},
   "outputs": [
    {
     "name": "stdout",
     "output_type": "stream",
     "text": [
      "neg\n"
     ]
    }
   ],
   "source": [
    "x=-5.8\n",
    "if x>0:\n",
    "    print('pos')\n",
    "elif x<0:\n",
    "    print('neg')\n",
    "else:\n",
    "    print('zero')"
   ]
  },
  {
   "cell_type": "code",
   "execution_count": 19,
   "id": "7eefb4f6",
   "metadata": {},
   "outputs": [
    {
     "name": "stdout",
     "output_type": "stream",
     "text": [
      "pos\n",
      "T\n"
     ]
    }
   ],
   "source": [
    "x=10\n",
    "if x>0:\n",
    "    print('pos')\n",
    "    if x>10:\n",
    "        print('M')\n",
    "    elif x>20:\n",
    "        print('P')\n",
    "    elif x<10:\n",
    "        print('K')\n",
    "    else:\n",
    "        print('T')\n",
    "elif x<0:\n",
    "    print('neg')\n",
    "    \n",
    "    if x<-20:\n",
    "        print('Q')\n",
    "    elif x>-10:\n",
    "        print('C')\n",
    "    elif x>-30:\n",
    "        print('Z')\n",
    "        \n",
    "else:\n",
    "    print('zero')"
   ]
  },
  {
   "cell_type": "code",
   "execution_count": 20,
   "id": "d5ecf666",
   "metadata": {},
   "outputs": [
    {
     "name": "stdout",
     "output_type": "stream",
     "text": [
      "K\n"
     ]
    }
   ],
   "source": [
    "y=10\n",
    "if y>>5:\n",
    "    prin('M')\n",
    "elif y>4:\n",
    "    print('K')\n",
    "elif y>7:\n",
    "    print('H')\n",
    "else:\n",
    "    print('O')"
   ]
  },
  {
   "cell_type": "code",
   "execution_count": 30,
   "id": "00a4893c",
   "metadata": {},
   "outputs": [
    {
     "name": "stdout",
     "output_type": "stream",
     "text": [
      "Yes\n"
     ]
    }
   ],
   "source": [
    "x='telangana'\n",
    "x='Tiger'\n",
    "x='Tan'\n",
    "if x[0]=='t' or x[0]=='T':\n",
    "    print('Yes')\n",
    "else:\n",
    "    print('No')\n"
   ]
  },
  {
   "cell_type": "code",
   "execution_count": 41,
   "id": "36196983",
   "metadata": {},
   "outputs": [
    {
     "name": "stdout",
     "output_type": "stream",
     "text": [
      "Yes\n"
     ]
    }
   ],
   "source": [
    "x='lion'\n",
    "y='mumbai'\n",
    "if x[0]=='l' or y[0]=='m':\n",
    "    print('Yes')\n",
    "else:\n",
    "    print('No')"
   ]
  },
  {
   "cell_type": "code",
   "execution_count": 42,
   "id": "f26439fb",
   "metadata": {},
   "outputs": [
    {
     "name": "stdout",
     "output_type": "stream",
     "text": [
      "Yes\n"
     ]
    }
   ],
   "source": [
    "x='singapore'\n",
    "y='America'\n",
    "if x[2]=='n' or y[0]=='e':\n",
    "    print('Yes')\n",
    "else:\n",
    "    print('No')\n"
   ]
  },
  {
   "cell_type": "code",
   "execution_count": 43,
   "id": "26659f8b",
   "metadata": {},
   "outputs": [
    {
     "name": "stdout",
     "output_type": "stream",
     "text": [
      "Yes\n"
     ]
    }
   ],
   "source": [
    "x='tiger'\n",
    "if x[0].lower()=='t':\n",
    "    print('Yes')\n",
    "else:\n",
    "    print('No')"
   ]
  },
  {
   "cell_type": "code",
   "execution_count": 45,
   "id": "a013e594",
   "metadata": {},
   "outputs": [
    {
     "name": "stdout",
     "output_type": "stream",
     "text": [
      "Yes\n"
     ]
    }
   ],
   "source": [
    "x='tiger'\n",
    "if x[0].lower() in ('t','s','m'):\n",
    "    print('Yes')\n",
    "else:\n",
    "    print('No')"
   ]
  },
  {
   "cell_type": "code",
   "execution_count": 46,
   "id": "faa41ae1",
   "metadata": {},
   "outputs": [
    {
     "name": "stdout",
     "output_type": "stream",
     "text": [
      "No\n"
     ]
    }
   ],
   "source": [
    "if x[0].lower() in('s','m','h'):\n",
    "    print('Yes')\n",
    "else:\n",
    "    print('No')"
   ]
  },
  {
   "cell_type": "code",
   "execution_count": 47,
   "id": "b15168ae",
   "metadata": {},
   "outputs": [
    {
     "name": "stdout",
     "output_type": "stream",
     "text": [
      "No\n"
     ]
    }
   ],
   "source": [
    "if x[0]=='s' or x[0]=='S' or x[0]=='m' or x[0]=='M' or x[0]=='h' or x[0]=='h':\n",
    "    print('Yes')\n",
    "else:\n",
    "    print('No')"
   ]
  },
  {
   "cell_type": "code",
   "execution_count": null,
   "id": "700108c6",
   "metadata": {},
   "outputs": [],
   "source": []
  }
 ],
 "metadata": {
  "kernelspec": {
   "display_name": "Python 3 (ipykernel)",
   "language": "python",
   "name": "python3"
  },
  "language_info": {
   "codemirror_mode": {
    "name": "ipython",
    "version": 3
   },
   "file_extension": ".py",
   "mimetype": "text/x-python",
   "name": "python",
   "nbconvert_exporter": "python",
   "pygments_lexer": "ipython3",
   "version": "3.11.4"
  }
 },
 "nbformat": 4,
 "nbformat_minor": 5
}
