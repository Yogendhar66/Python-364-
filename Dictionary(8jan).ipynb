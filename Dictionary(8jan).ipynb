{
 "cells": [
  {
   "cell_type": "code",
   "execution_count": 3,
   "id": "e30ad3b2",
   "metadata": {},
   "outputs": [
    {
     "data": {
      "text/plain": [
       "{102: 34, 56: 12, 45: 23, 78: 39}"
      ]
     },
     "execution_count": 3,
     "metadata": {},
     "output_type": "execute_result"
    }
   ],
   "source": [
    "Y={102:34,56:12,45:23,78:39}\n",
    "Y\n"
   ]
  },
  {
   "cell_type": "code",
   "execution_count": 5,
   "id": "09d01d00",
   "metadata": {},
   "outputs": [
    {
     "data": {
      "text/plain": [
       "{102: 99, 56: 12, 45: 23, 78: 39}"
      ]
     },
     "execution_count": 5,
     "metadata": {},
     "output_type": "execute_result"
    }
   ],
   "source": [
    "Y.update({102:99})\n",
    "Y"
   ]
  },
  {
   "cell_type": "code",
   "execution_count": 6,
   "id": "502e86e5",
   "metadata": {},
   "outputs": [
    {
     "data": {
      "text/plain": [
       "dict_items([(102, 99), (56, 12), (45, 23), (78, 39)])"
      ]
     },
     "execution_count": 6,
     "metadata": {},
     "output_type": "execute_result"
    }
   ],
   "source": [
    "Y.items()"
   ]
  },
  {
   "cell_type": "code",
   "execution_count": 7,
   "id": "421886ba",
   "metadata": {},
   "outputs": [
    {
     "data": {
      "text/plain": [
       "{102: 3009, 56: 12, 45: 23, 78: 39}"
      ]
     },
     "execution_count": 7,
     "metadata": {},
     "output_type": "execute_result"
    }
   ],
   "source": [
    "Y[102] = 3009\n",
    "Y"
   ]
  },
  {
   "cell_type": "code",
   "execution_count": 9,
   "id": "ea7224ba",
   "metadata": {},
   "outputs": [
    {
     "data": {
      "text/plain": [
       "{102: 3009, 45: 23, 78: 39}"
      ]
     },
     "execution_count": 9,
     "metadata": {},
     "output_type": "execute_result"
    }
   ],
   "source": [
    "del Y[56]\n",
    "Y"
   ]
  },
  {
   "cell_type": "code",
   "execution_count": 10,
   "id": "bafe9ce1",
   "metadata": {},
   "outputs": [
    {
     "data": {
      "text/plain": [
       "{102: 3009, 45: 23, 78: 39}"
      ]
     },
     "execution_count": 10,
     "metadata": {},
     "output_type": "execute_result"
    }
   ],
   "source": [
    "Y.update({45:23})\n",
    "Y"
   ]
  },
  {
   "cell_type": "code",
   "execution_count": 11,
   "id": "f40baf8d",
   "metadata": {},
   "outputs": [
    {
     "data": {
      "text/plain": [
       "{102: 3009, 45: 67890, 78: 39}"
      ]
     },
     "execution_count": 11,
     "metadata": {},
     "output_type": "execute_result"
    }
   ],
   "source": [
    "Y.update({45:67890})\n",
    "Y"
   ]
  },
  {
   "cell_type": "code",
   "execution_count": 12,
   "id": "55d6aa79",
   "metadata": {},
   "outputs": [
    {
     "data": {
      "text/plain": [
       "{102: 3009, 45: 67890, 78: 39, 123: 'Hello'}"
      ]
     },
     "execution_count": 12,
     "metadata": {},
     "output_type": "execute_result"
    }
   ],
   "source": [
    "Y.update({123:\"Hello\"})\n",
    "Y"
   ]
  },
  {
   "cell_type": "code",
   "execution_count": 13,
   "id": "66e3a24b",
   "metadata": {},
   "outputs": [
    {
     "data": {
      "text/plain": [
       "{102: 3009, 45: 67890, 78: 39, 123: 'Hello', 345: 'Hello'}"
      ]
     },
     "execution_count": 13,
     "metadata": {},
     "output_type": "execute_result"
    }
   ],
   "source": [
    "Y.update({345:\"Hello\"})\n",
    "Y"
   ]
  },
  {
   "cell_type": "code",
   "execution_count": 14,
   "id": "7a19bb1a",
   "metadata": {},
   "outputs": [
    {
     "data": {
      "text/plain": [
       "{102: 3009, 45: 67890, 78: 39, 123: 'Hello', 345: 'Hello'}"
      ]
     },
     "execution_count": 14,
     "metadata": {},
     "output_type": "execute_result"
    }
   ],
   "source": [
    "Y.get(123)\n",
    "Y"
   ]
  },
  {
   "cell_type": "code",
   "execution_count": 15,
   "id": "7db61d1a",
   "metadata": {},
   "outputs": [
    {
     "data": {
      "text/plain": [
       "3009"
      ]
     },
     "execution_count": 15,
     "metadata": {},
     "output_type": "execute_result"
    }
   ],
   "source": [
    "Y.get(102)"
   ]
  },
  {
   "cell_type": "code",
   "execution_count": 22,
   "id": "34a5e22c",
   "metadata": {},
   "outputs": [
    {
     "data": {
      "text/plain": [
       "int"
      ]
     },
     "execution_count": 22,
     "metadata": {},
     "output_type": "execute_result"
    }
   ],
   "source": [
    "type(Y[102])"
   ]
  },
  {
   "cell_type": "code",
   "execution_count": 23,
   "id": "5467692f",
   "metadata": {},
   "outputs": [
    {
     "data": {
      "text/plain": [
       "dict"
      ]
     },
     "execution_count": 23,
     "metadata": {},
     "output_type": "execute_result"
    }
   ],
   "source": [
    "type(Y)"
   ]
  },
  {
   "cell_type": "code",
   "execution_count": 24,
   "id": "b8f657bb",
   "metadata": {},
   "outputs": [
    {
     "data": {
      "text/plain": [
       "str"
      ]
     },
     "execution_count": 24,
     "metadata": {},
     "output_type": "execute_result"
    }
   ],
   "source": [
    "type(Y[123])"
   ]
  },
  {
   "cell_type": "code",
   "execution_count": 26,
   "id": "3ac57cd6",
   "metadata": {},
   "outputs": [
    {
     "data": {
      "text/plain": [
       "{102: 3009, 45: 67890, 78: 39, 123: (98, 87, 76, 65, 54, 43), 345: 'Hello'}"
      ]
     },
     "execution_count": 26,
     "metadata": {},
     "output_type": "execute_result"
    }
   ],
   "source": [
    "Y.update({123:(98,87,76,65,54,43)})\n",
    "Y"
   ]
  },
  {
   "cell_type": "code",
   "execution_count": 28,
   "id": "abac9609",
   "metadata": {},
   "outputs": [
    {
     "data": {
      "text/plain": [
       "'india'"
      ]
     },
     "execution_count": 28,
     "metadata": {},
     "output_type": "execute_result"
    }
   ],
   "source": [
    "a=\"india\"\n",
    "a"
   ]
  },
  {
   "cell_type": "code",
   "execution_count": 29,
   "id": "7c0dd8a9",
   "metadata": {},
   "outputs": [
    {
     "data": {
      "text/plain": [
       "'INDIA'"
      ]
     },
     "execution_count": 29,
     "metadata": {},
     "output_type": "execute_result"
    }
   ],
   "source": [
    "a.upper()"
   ]
  },
  {
   "cell_type": "code",
   "execution_count": 30,
   "id": "6cbd86d5",
   "metadata": {},
   "outputs": [
    {
     "data": {
      "text/plain": [
       "'india'"
      ]
     },
     "execution_count": 30,
     "metadata": {},
     "output_type": "execute_result"
    }
   ],
   "source": [
    "a.lower()"
   ]
  },
  {
   "cell_type": "code",
   "execution_count": 31,
   "id": "03769277",
   "metadata": {},
   "outputs": [
    {
     "data": {
      "text/plain": [
       "False"
      ]
     },
     "execution_count": 31,
     "metadata": {},
     "output_type": "execute_result"
    }
   ],
   "source": [
    "a.isdigit()"
   ]
  },
  {
   "cell_type": "code",
   "execution_count": 32,
   "id": "17d50011",
   "metadata": {},
   "outputs": [
    {
     "data": {
      "text/plain": [
       "['india']"
      ]
     },
     "execution_count": 32,
     "metadata": {},
     "output_type": "execute_result"
    }
   ],
   "source": [
    "a.split()"
   ]
  },
  {
   "cell_type": "code",
   "execution_count": 33,
   "id": "a6ae858e",
   "metadata": {},
   "outputs": [
    {
     "data": {
      "text/plain": [
       "3009"
      ]
     },
     "execution_count": 33,
     "metadata": {},
     "output_type": "execute_result"
    }
   ],
   "source": [
    "Y[102]"
   ]
  },
  {
   "cell_type": "code",
   "execution_count": 34,
   "id": "5603fde6",
   "metadata": {},
   "outputs": [
    {
     "data": {
      "text/plain": [
       "(98, 87, 76, 65, 54, 43)"
      ]
     },
     "execution_count": 34,
     "metadata": {},
     "output_type": "execute_result"
    }
   ],
   "source": [
    "Y[123]"
   ]
  },
  {
   "cell_type": "code",
   "execution_count": 36,
   "id": "e3f3e81d",
   "metadata": {},
   "outputs": [
    {
     "data": {
      "text/plain": [
       "list"
      ]
     },
     "execution_count": 36,
     "metadata": {},
     "output_type": "execute_result"
    }
   ],
   "source": [
    "type([123])"
   ]
  },
  {
   "cell_type": "code",
   "execution_count": 39,
   "id": "932837de",
   "metadata": {},
   "outputs": [
    {
     "data": {
      "text/plain": [
       "0"
      ]
     },
     "execution_count": 39,
     "metadata": {},
     "output_type": "execute_result"
    }
   ],
   "source": [
    "Y[123].count(3457)"
   ]
  },
  {
   "cell_type": "code",
   "execution_count": 45,
   "id": "8a388140",
   "metadata": {},
   "outputs": [
    {
     "data": {
      "text/plain": [
       "{102: (30, 40, 50, 60, 70),\n",
       " 45: 67890,\n",
       " 78: 39,\n",
       " 123: (98, 87, 76, 65, 54, 43),\n",
       " 345: 'Hello'}"
      ]
     },
     "execution_count": 45,
     "metadata": {},
     "output_type": "execute_result"
    }
   ],
   "source": [
    "Y.update({102:(30,40,50,60,70)})\n",
    "Y"
   ]
  },
  {
   "cell_type": "code",
   "execution_count": 48,
   "id": "2d8c1910",
   "metadata": {},
   "outputs": [
    {
     "data": {
      "text/plain": [
       "{102: (30, 40, 50, 60, 70),\n",
       " 45: 67890,\n",
       " 78: 39,\n",
       " 123: (98, 87, 76, 65, 54, 43),\n",
       " 345: 'Hello'}"
      ]
     },
     "execution_count": 48,
     "metadata": {},
     "output_type": "execute_result"
    }
   ],
   "source": [
    "Y"
   ]
  },
  {
   "cell_type": "code",
   "execution_count": 49,
   "id": "a708db33",
   "metadata": {},
   "outputs": [
    {
     "data": {
      "text/plain": [
       "tuple"
      ]
     },
     "execution_count": 49,
     "metadata": {},
     "output_type": "execute_result"
    }
   ],
   "source": [
    "type(Y[102])"
   ]
  },
  {
   "cell_type": "code",
   "execution_count": 51,
   "id": "b662c064",
   "metadata": {},
   "outputs": [
    {
     "data": {
      "text/plain": [
       "'Hello'"
      ]
     },
     "execution_count": 51,
     "metadata": {},
     "output_type": "execute_result"
    }
   ],
   "source": [
    "Y[345]"
   ]
  },
  {
   "cell_type": "code",
   "execution_count": 53,
   "id": "c34078f0",
   "metadata": {},
   "outputs": [
    {
     "data": {
      "text/plain": [
       "{102: (30, 40, 50, 60, 70),\n",
       " 45: 67890,\n",
       " 78: 39,\n",
       " 123: (98, 87, 76, 65, 54, 43),\n",
       " 345: 'HELLO'}"
      ]
     },
     "execution_count": 53,
     "metadata": {},
     "output_type": "execute_result"
    }
   ],
   "source": [
    "Y[345]=Y[345].upper()\n",
    "Y"
   ]
  },
  {
   "cell_type": "code",
   "execution_count": 54,
   "id": "7e5ebe20",
   "metadata": {},
   "outputs": [
    {
     "data": {
      "text/plain": [
       "{102: (30, 40, 50, 60, 70),\n",
       " 45: 67890,\n",
       " 78: 39,\n",
       " 123: (98, 87, 76, 65, 54, 43),\n",
       " 345: 'hello'}"
      ]
     },
     "execution_count": 54,
     "metadata": {},
     "output_type": "execute_result"
    }
   ],
   "source": [
    "Y[345]=Y[345].lower()\n",
    "Y"
   ]
  },
  {
   "cell_type": "code",
   "execution_count": 56,
   "id": "f0dae7aa",
   "metadata": {},
   "outputs": [
    {
     "data": {
      "text/plain": [
       "(30, 40, 50, 60, 70)"
      ]
     },
     "execution_count": 56,
     "metadata": {},
     "output_type": "execute_result"
    }
   ],
   "source": [
    "Y[102]"
   ]
  },
  {
   "cell_type": "code",
   "execution_count": 64,
   "id": "401fbcb1",
   "metadata": {},
   "outputs": [
    {
     "data": {
      "text/plain": [
       "40"
      ]
     },
     "execution_count": 64,
     "metadata": {},
     "output_type": "execute_result"
    }
   ],
   "source": [
    "Y[102][1]"
   ]
  },
  {
   "cell_type": "code",
   "execution_count": null,
   "id": "46de1938",
   "metadata": {},
   "outputs": [],
   "source": []
  },
  {
   "cell_type": "code",
   "execution_count": null,
   "id": "0b91762b",
   "metadata": {},
   "outputs": [],
   "source": []
  },
  {
   "cell_type": "code",
   "execution_count": null,
   "id": "b81d6bde",
   "metadata": {},
   "outputs": [],
   "source": []
  }
 ],
 "metadata": {
  "kernelspec": {
   "display_name": "Python 3 (ipykernel)",
   "language": "python",
   "name": "python3"
  },
  "language_info": {
   "codemirror_mode": {
    "name": "ipython",
    "version": 3
   },
   "file_extension": ".py",
   "mimetype": "text/x-python",
   "name": "python",
   "nbconvert_exporter": "python",
   "pygments_lexer": "ipython3",
   "version": "3.11.4"
  }
 },
 "nbformat": 4,
 "nbformat_minor": 5
}
